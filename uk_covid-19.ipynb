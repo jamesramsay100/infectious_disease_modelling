{
 "cells": [
  {
   "cell_type": "markdown",
   "metadata": {
    "colab_type": "text",
    "id": "view-in-github"
   },
   "source": [
    "<a href=\"https://colab.research.google.com/github/hf2000510/infectious_disease_modelling/blob/master/part_two.ipynb\" target=\"_parent\"><img src=\"https://colab.research.google.com/assets/colab-badge.svg\" alt=\"Open In Colab\"/></a>"
   ]
  },
  {
   "cell_type": "markdown",
   "metadata": {
    "colab_type": "text",
    "id": "QoBYUqWdYiPx"
   },
   "source": [
    "Make sure to open in Colab to see the plots!"
   ]
  },
  {
   "cell_type": "code",
   "execution_count": 1,
   "metadata": {
    "colab": {},
    "colab_type": "code",
    "id": "LKcUG-yvSUVa"
   },
   "outputs": [],
   "source": [
    "from scipy.integrate import odeint\n",
    "import numpy as np\n",
    "import matplotlib.pyplot as plt\n",
    "%matplotlib inline \n",
    "#!pip install mpld3\n",
    "# import mpld3\n",
    "# mpld3.enable_notebook()\n",
    "import pandas as pd"
   ]
  },
  {
   "cell_type": "markdown",
   "metadata": {},
   "source": [
    "## Get real data"
   ]
  },
  {
   "cell_type": "code",
   "execution_count": 2,
   "metadata": {},
   "outputs": [
    {
     "data": {
      "text/html": [
       "<div>\n",
       "<style scoped>\n",
       "    .dataframe tbody tr th:only-of-type {\n",
       "        vertical-align: middle;\n",
       "    }\n",
       "\n",
       "    .dataframe tbody tr th {\n",
       "        vertical-align: top;\n",
       "    }\n",
       "\n",
       "    .dataframe thead th {\n",
       "        text-align: right;\n",
       "    }\n",
       "</style>\n",
       "<table border=\"1\" class=\"dataframe\">\n",
       "  <thead>\n",
       "    <tr style=\"text-align: right;\">\n",
       "      <th></th>\n",
       "      <th>Date</th>\n",
       "      <th>Deaths</th>\n",
       "    </tr>\n",
       "  </thead>\n",
       "  <tbody>\n",
       "    <tr>\n",
       "      <td>0</td>\n",
       "      <td>2020-01-03</td>\n",
       "      <td>0</td>\n",
       "    </tr>\n",
       "    <tr>\n",
       "      <td>1</td>\n",
       "      <td>2020-02-03</td>\n",
       "      <td>0</td>\n",
       "    </tr>\n",
       "    <tr>\n",
       "      <td>2</td>\n",
       "      <td>2020-03-03</td>\n",
       "      <td>0</td>\n",
       "    </tr>\n",
       "    <tr>\n",
       "      <td>3</td>\n",
       "      <td>2020-04-03</td>\n",
       "      <td>0</td>\n",
       "    </tr>\n",
       "    <tr>\n",
       "      <td>4</td>\n",
       "      <td>2020-05-03</td>\n",
       "      <td>1</td>\n",
       "    </tr>\n",
       "  </tbody>\n",
       "</table>\n",
       "</div>"
      ],
      "text/plain": [
       "        Date  Deaths\n",
       "0 2020-01-03       0\n",
       "1 2020-02-03       0\n",
       "2 2020-03-03       0\n",
       "3 2020-04-03       0\n",
       "4 2020-05-03       1"
      ]
     },
     "execution_count": 2,
     "metadata": {},
     "output_type": "execute_result"
    }
   ],
   "source": [
    "deaths = pd.read_csv('data/uk_deaths.csv', parse_dates=[0])\n",
    "deaths.dtypes\n",
    "deaths.head()"
   ]
  },
  {
   "cell_type": "code",
   "execution_count": 3,
   "metadata": {
    "colab": {},
    "colab_type": "code",
    "id": "r_0ExOhBy6ry"
   },
   "outputs": [],
   "source": [
    "def plotseird(t, S, E, I, R, D=None, L=None, R0=None, Alpha=None, CFR=None):\n",
    "  f, ax = plt.subplots(1,1,figsize=(10,4))\n",
    "  ax.plot(t, S, 'b', alpha=0.7, linewidth=2, label='Susceptible')\n",
    "  ax.plot(t, E, 'y', alpha=0.7, linewidth=2, label='Exposed')\n",
    "  ax.plot(t, I, 'r', alpha=0.7, linewidth=2, label='Infected')\n",
    "  ax.plot(t, R, 'g', alpha=0.7, linewidth=2, label='Recovered')\n",
    "\n",
    "  if D is not None:\n",
    "    ax.plot(t, D, 'k', alpha=0.7, linewidth=2, label='Dead')\n",
    "    ax.plot(t, S+E+I+R+D, 'c--', alpha=0.7, linewidth=2, label='Total')\n",
    "  else:\n",
    "    ax.plot(t, S+E+I+R, 'c--', alpha=0.7, linewidth=2, label='Total')\n",
    "\n",
    "  ax.set_xlabel('Time (days)')\n",
    "\n",
    "  ax.yaxis.set_tick_params(length=0)\n",
    "  ax.xaxis.set_tick_params(length=0)\n",
    "  ax.grid(b=True, which='major', c='w', lw=2, ls='-')\n",
    "  legend = ax.legend(borderpad=2.0)\n",
    "  legend.get_frame().set_alpha(0.5)\n",
    "  for spine in ('top', 'right', 'bottom', 'left'):\n",
    "      ax.spines[spine].set_visible(False)\n",
    "  if L is not None:\n",
    "      plt.title(\"Lockdown after {} days\".format(L))\n",
    "  plt.show();\n",
    "\n",
    "  if R0 is not None or CFR is not None:\n",
    "    f = plt.figure(figsize=(12,4))\n",
    "  \n",
    "  if R0 is not None:\n",
    "    # sp1\n",
    "    ax1 = f.add_subplot(121)\n",
    "    ax1.plot(t, R0, 'b--', alpha=0.7, linewidth=2, label='R_0')\n",
    "\n",
    "    ax1.set_xlabel('Time (days)')\n",
    "    ax1.title.set_text('R_0 over time')\n",
    "    # ax.set_ylabel('Number (1000s)')\n",
    "    # ax.set_ylim(0,1.2)\n",
    "    ax1.yaxis.set_tick_params(length=0)\n",
    "    ax1.xaxis.set_tick_params(length=0)\n",
    "    ax1.grid(b=True, which='major', c='w', lw=2, ls='-')\n",
    "    legend = ax1.legend()\n",
    "    legend.get_frame().set_alpha(0.5)\n",
    "    for spine in ('top', 'right', 'bottom', 'left'):\n",
    "      ax.spines[spine].set_visible(False)\n",
    "\n",
    "  if Alpha is not None:\n",
    "    # sp2\n",
    "    ax2 = f.add_subplot(122)\n",
    "    ax2.plot(t, Alpha, 'r--', alpha=0.7, linewidth=2, label='alpha')\n",
    "\n",
    "    ax2.set_xlabel('Time (days)')\n",
    "    ax2.title.set_text('fatality rate over time')\n",
    "    # ax.set_ylabel('Number (1000s)')\n",
    "    # ax.set_ylim(0,1.2)\n",
    "    ax2.yaxis.set_tick_params(length=0)\n",
    "    ax2.xaxis.set_tick_params(length=0)\n",
    "    ax2.grid(b=True, which='major', c='w', lw=2, ls='-')\n",
    "    legend = ax2.legend()\n",
    "    legend.get_frame().set_alpha(0.5)\n",
    "    for spine in ('top', 'right', 'bottom', 'left'):\n",
    "      ax.spines[spine].set_visible(False)\n",
    "\n",
    "    plt.show();"
   ]
  },
  {
   "cell_type": "markdown",
   "metadata": {
    "colab_type": "text",
    "id": "GKElFdtGZoea"
   },
   "source": [
    "## Programming the Exposed-Compartment"
   ]
  },
  {
   "cell_type": "markdown",
   "metadata": {
    "colab_type": "text",
    "id": "rPreoUEzBZ06"
   },
   "source": [
    "### Resource- and Age-Dependent Fatality Rate"
   ]
  },
  {
   "cell_type": "code",
   "execution_count": 4,
   "metadata": {
    "colab": {},
    "colab_type": "code",
    "id": "0ZhOI7ibOcnt"
   },
   "outputs": [],
   "source": [
    "def deriv(y, t, N, beta, gamma, delta, alpha_opt, rho):\n",
    "    S, E, I, R, D = y\n",
    "    def alpha(t):\n",
    "        return s * I/N + alpha_opt\n",
    "\n",
    "    dSdt = -beta(t) * S * I / N\n",
    "    dEdt = beta(t) * S * I / N - delta * E\n",
    "    dIdt = delta * E - (1 - alpha(t)) * gamma * I - alpha(t) * rho * I\n",
    "    dRdt = (1 - alpha(t)) * gamma * I\n",
    "    dDdt = alpha(t) * rho * I\n",
    "    return dSdt, dEdt, dIdt, dRdt, dDdt"
   ]
  },
  {
   "cell_type": "code",
   "execution_count": 5,
   "metadata": {
    "colab": {},
    "colab_type": "code",
    "id": "SXJd9LDoBk-f"
   },
   "outputs": [],
   "source": [
    "N = 1_000_000\n",
    "D = 4.0 # infections lasts four days\n",
    "gamma = 1.0 / D\n",
    "delta = 1.0 / 5.0  # incubation period of five days\n",
    "\n",
    "R_0_start, k, x0, R_0_end = 5.0, 0.5, 50, 0.5\n",
    "\n",
    "def logistic_R_0(t):\n",
    "    return (R_0_start-R_0_end) / (1 + np.exp(-k*(-t+x0))) + R_0_end\n",
    "\n",
    "def beta(t):\n",
    "    return logistic_R_0(t) * gamma\n",
    "\n",
    "alpha_by_agegroup = {\"0-29\": 0.01, \"30-59\": 0.05, \"60-89\": 0.2, \"89+\": 0.3}\n",
    "proportion_of_agegroup = {\"0-29\": 0.1, \"30-59\": 0.3, \"60-89\": 0.4, \"89+\": 0.2}\n",
    "s = 0.01\n",
    "alpha_opt = sum(alpha_by_agegroup[i] * proportion_of_agegroup[i] for i in list(alpha_by_agegroup.keys()))\n",
    "\n",
    "rho = 1/9  # 9 days from infection until death\n",
    "S0, E0, I0, R0, D0 = N-1, 1, 0, 0, 0  # initial conditions: one exposed"
   ]
  },
  {
   "cell_type": "code",
   "execution_count": 6,
   "metadata": {
    "colab": {},
    "colab_type": "code",
    "id": "nmENjZzhPf_p"
   },
   "outputs": [],
   "source": [
    "t = np.linspace(0, 100, 100) # Grid of time points (in days)\n",
    "y0 = S0, E0, I0, R0, D0 # Initial conditions vector\n",
    "\n",
    "# Integrate the SIR equations over the time grid, t.\n",
    "ret = odeint(deriv, y0, t, args=(N, beta, gamma, delta, alpha_opt, rho))\n",
    "S, E, I, R, D = ret.T\n",
    "R0_over_time = [logistic_R_0(i) for i in range(len(t))]  # to plot R_0 over time: get function values\n",
    "Alpha_over_time = [s * I[i]/N + alpha_opt for i in range(len(t))]  # to plot alpha over time"
   ]
  },
  {
   "cell_type": "code",
   "execution_count": 9,
   "metadata": {},
   "outputs": [
    {
     "data": {
      "text/plain": [
       "array([0.00000000e+00, 1.56495066e-03, 5.77106782e-03, 1.24149760e-02,\n",
       "       2.17844919e-02, 3.45356667e-02, 5.16764194e-02, 7.46165051e-02,\n",
       "       1.05269123e-01, 1.46203524e-01, 2.00856974e-01, 2.73821722e-01,\n",
       "       3.71230039e-01, 5.01269145e-01, 6.74869067e-01, 9.06621034e-01,\n",
       "       1.21600351e+00, 1.62901871e+00, 2.18037685e+00, 2.91641139e+00,\n",
       "       3.89896916e+00, 5.21060116e+00, 6.96148728e+00, 9.29867238e+00,\n",
       "       1.24183810e+01, 1.65824307e+01, 2.21400946e+01, 2.95572032e+01,\n",
       "       3.94548403e+01, 5.26607297e+01, 7.02773501e+01, 9.37720011e+01,\n",
       "       1.25095502e+02, 1.66837917e+02, 2.22431590e+02, 2.96413596e+02,\n",
       "       3.94760945e+02, 5.25311424e+02, 6.98278926e+02, 9.26861078e+02,\n",
       "       1.22791350e+03, 1.62262120e+03, 2.13702361e+03, 2.80213851e+03,\n",
       "       3.65328738e+03, 4.72809622e+03, 6.06264518e+03, 7.68556831e+03,\n",
       "       9.61074956e+03, 1.18305124e+04, 1.43121124e+04, 1.69997773e+04,\n",
       "       1.98222181e+04, 2.27029541e+04, 2.55699399e+04, 2.83621442e+04,\n",
       "       3.10325637e+04, 3.35484018e+04, 3.58895274e+04, 3.80461755e+04,\n",
       "       4.00165287e+04, 4.18045239e+04, 4.34180230e+04, 4.48673729e+04,\n",
       "       4.61643158e+04, 4.73211954e+04, 4.83503967e+04, 4.92639663e+04,\n",
       "       5.00733673e+04, 5.07893322e+04, 5.14217875e+04, 5.19798268e+04,\n",
       "       5.24717188e+04, 5.29049360e+04, 5.32861992e+04, 5.36215281e+04,\n",
       "       5.39162971e+04, 5.41752909e+04, 5.44027592e+04, 5.46024692e+04,\n",
       "       5.47777549e+04, 5.49315629e+04, 5.50664936e+04, 5.51848405e+04,\n",
       "       5.52886236e+04, 5.53796215e+04, 5.54593986e+04, 5.55293306e+04,\n",
       "       5.55906262e+04, 5.56443474e+04, 5.56914265e+04, 5.57326820e+04,\n",
       "       5.57688322e+04, 5.58005073e+04, 5.58282600e+04, 5.58525750e+04,\n",
       "       5.58738776e+04, 5.58925402e+04, 5.59088898e+04, 5.59232126e+04])"
      ]
     },
     "execution_count": 9,
     "metadata": {},
     "output_type": "execute_result"
    }
   ],
   "source": [
    "D"
   ]
  },
  {
   "cell_type": "code",
   "execution_count": 7,
   "metadata": {
    "colab": {
     "base_uri": "https://localhost:8080/",
     "height": 600
    },
    "colab_type": "code",
    "id": "q-s8MNJHP7xN",
    "outputId": "3a64ded3-5fda-4753-ed6f-7833d829f48a"
   },
   "outputs": [
    {
     "data": {
      "image/png": "[encoded data removed]",
      "text/plain": [
       "<Figure size 720x288 with 1 Axes>"
      ]
     },
     "metadata": {
      "needs_background": "light"
     },
     "output_type": "display_data"
    },
    {
     "data": {
      "image/png": "[encoded data removed]",
      "text/plain": [
       "<Figure size 864x288 with 2 Axes>"
      ]
     },
     "metadata": {
      "needs_background": "light"
     },
     "output_type": "display_data"
    }
   ],
   "source": [
    "plotseird(t, S, E, I, R, D, R0=R0_over_time, Alpha=Alpha_over_time)"
   ]
  },
  {
   "cell_type": "code",
   "execution_count": null,
   "metadata": {},
   "outputs": [],
   "source": []
  }
 ],
 "metadata": {
  "colab": {
   "authorship_tag": "ABX9TyO9r7i+I49VZJDOz8JNEv/h",
   "collapsed_sections": [],
   "include_colab_link": true,
   "name": "medium_modelling_part_two.ipynb",
   "provenance": []
  },
  "kernelspec": {
   "display_name": "Python 3",
   "language": "python",
   "name": "python3"
  },
  "language_info": {
   "codemirror_mode": {
    "name": "ipython",
    "version": 3
   },
   "file_extension": ".py",
   "mimetype": "text/x-python",
   "name": "python",
   "nbconvert_exporter": "python",
   "pygments_lexer": "ipython3",
   "version": "3.7.4"
  }
 },
 "nbformat": 4,
 "nbformat_minor": 4
}
